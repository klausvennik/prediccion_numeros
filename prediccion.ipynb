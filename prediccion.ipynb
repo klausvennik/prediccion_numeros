# Implementa esto en Google Colab
# Este código utiliza un conjunto de números para entrenar un modelo y predecir los siguientes.
# Importante lee los comentarios, debes ingresa en 2 bloques el número de predicciones. 

import tensorflow as tf
import numpy as np

# Indicar los datos entrenamiento en el array
input_sequence = np.array([2,4,6,8,10,12,14,16,18,20,22,24,26,28,30])

# Indicar la cantidad de predicciones 
num_steps = 1

# Esta seccion define una función que genere las secuencias de entrada para el modelo
def generate_input_sequences(input_sequence, num_steps):
    X = []
    y = []
    for i in range(len(input_sequence)-num_steps):
        X.append(input_sequence[i:i+num_steps])
        y.append(input_sequence[i+num_steps])
    return np.array(X), np.array(y)

# Esta seccion genera las secuencias de entrada para el modelo
X, y = generate_input_sequences(input_sequence, num_steps)

# Esta sección define el modelo
model = tf.keras.Sequential([
    tf.keras.layers.Dense(units=1, input_shape=[num_steps])
])

# Esta sección compila el modelo
model.compile(optimizer=tf.keras.optimizers.Adam(1), loss='mean_squared_error')

# Esta sección entrena el modelo
model.fit(X, y, epochs=1000)

# Debes indicar la cantidad de predicciones nuevamente. Esta sección utiliza el modelo para predecir los siguientes números en la secuencia
next_steps = 1
last_sequence = input_sequence[-num_steps:]
for i in range(next_steps):
    prediction = model.predict(last_sequence.reshape(1,num_steps))
    print("Predicción para el paso", i+1, ":", prediction[0][0])
    last_sequence = np.append(last_sequence[1:], prediction[0][0])
